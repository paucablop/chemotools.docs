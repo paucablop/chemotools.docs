{
 "cells": [
  {
   "cell_type": "markdown",
   "metadata": {
    "vscode": {
     "languageId": "plaintext"
    }
   },
   "source": [
    "# __Tutorial__\n",
    "\n",
    "Chemotools is very easy to use\n",
    "\n"
   ]
  },
  {
   "cell_type": "code",
   "execution_count": 1,
   "metadata": {
    "execution": {
     "iopub.execute_input": "2025-02-08T15:14:53.718644Z",
     "iopub.status.busy": "2025-02-08T15:14:53.718218Z",
     "iopub.status.idle": "2025-02-08T15:14:54.182228Z",
     "shell.execute_reply": "2025-02-08T15:14:54.181669Z"
    }
   },
   "outputs": [],
   "source": [
    "from chemotools.datasets import load_fermentation_train\n",
    "\n",
    "spectra, reference = load_fermentation_train()"
   ]
  }
 ],
 "metadata": {
  "language_info": {
   "codemirror_mode": {
    "name": "ipython",
    "version": 3
   },
   "file_extension": ".py",
   "mimetype": "text/x-python",
   "name": "python",
   "nbconvert_exporter": "python",
   "pygments_lexer": "ipython3",
   "version": "3.13.0"
  }
 },
 "nbformat": 4,
 "nbformat_minor": 2
}
